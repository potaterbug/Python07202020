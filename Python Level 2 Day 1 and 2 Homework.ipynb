{
 "cells": [
  {
   "cell_type": "markdown",
   "metadata": {},
   "source": [
    "Please make a class called Home that has 5 variables. The variables/attributes should be price, rooms, size, bathrooms, location. Please add a method/function that will display or print the information out nicely and neatly."
   ]
  },
  {
   "cell_type": "code",
   "execution_count": 2,
   "metadata": {},
   "outputs": [],
   "source": [
    "class Home:\n",
    "    \n",
    "    def __init__(self, price, rooms, size, bathrooms, location):\n",
    "        self.price = price\n",
    "        self.rooms = rooms\n",
    "        self.size = size\n",
    "        self.bathrooms = bathrooms\n",
    "        self.location = location\n",
    "        \n",
    "    def list_home_info(self):\n",
    "        print(\"Home Info\")\n",
    "        print(\"    Home Value: \" + str(self.price))\n",
    "        print(\"    # of Rooms: \" + str(self.rooms))\n",
    "        print(\"     Home Size: \" + self.size)\n",
    "        print(\"   # Bathrooms: \" + self.bathrooms)\n",
    "        print(\"      Location: \" + self.location)\n",
    "        "
   ]
  },
  {
   "cell_type": "markdown",
   "metadata": {},
   "source": [
    "Please create an instance of the Home class and give it 300000 for the price, 4 rooms, 4500 sqft, 3.5 bathrooms, and Cloverly,Maryland for the location. Please use your function to print out the information for yourself."
   ]
  },
  {
   "cell_type": "code",
   "execution_count": 3,
   "metadata": {},
   "outputs": [
    {
     "name": "stdout",
     "output_type": "stream",
     "text": [
      "Home Info\n",
      "    Home Value: 300000\n",
      "    # of Rooms: 4\n",
      "     Home Size: 4500 sqft\n",
      "   # Bathrooms: 3.5 bathrooms\n",
      "      Location: Cloverly, Maryland\n"
     ]
    }
   ],
   "source": [
    "home1 = Home(300000, 4, \"4500 sqft\", \"3.5 bathrooms\", \"Cloverly, Maryland\")\n",
    "home1.list_home_info()"
   ]
  },
  {
   "cell_type": "markdown",
   "metadata": {},
   "source": [
    "Please change the attribute called rooms from 4 to 4.5 now. and Print out the information again."
   ]
  },
  {
   "cell_type": "code",
   "execution_count": 4,
   "metadata": {},
   "outputs": [
    {
     "name": "stdout",
     "output_type": "stream",
     "text": [
      "Home Info\n",
      "    Home Value: 300000\n",
      "    # of Rooms: 4.5\n",
      "     Home Size: 4500 sqft\n",
      "   # Bathrooms: 3.5 bathrooms\n",
      "      Location: Cloverly, Maryland\n"
     ]
    }
   ],
   "source": [
    "home1.rooms = 4.5\n",
    "home1.list_home_info()"
   ]
  },
  {
   "cell_type": "markdown",
   "metadata": {},
   "source": [
    "Please create a class called Friend with 2 variables. called name and called relationship which is the relationship to you.\n",
    "Please create a class called Me with 3 variables. your name,last name, and friends."
   ]
  },
  {
   "cell_type": "code",
   "execution_count": 5,
   "metadata": {},
   "outputs": [],
   "source": [
    "class Friend:\n",
    "    \n",
    "    def __init__(self, name, relationship):\n",
    "        self.name = name\n",
    "        self.relationship = relationship\n",
    "        \n",
    "class Me:\n",
    "    \n",
    "    def __init__(self, firstname, lastname, friends):\n",
    "        self.firstname = firstname\n",
    "        self.lastname = lastname\n",
    "        self.friends = []  #hint think of an empty list for constructor goes here"
   ]
  },
  {
   "cell_type": "markdown",
   "metadata": {},
   "source": [
    "Make an 3 instances of the friend class and one instance of the Me class. Please add each of your friends into the friends variable. (Hint think of an empty list for the contructor)"
   ]
  },
  {
   "cell_type": "code",
   "execution_count": 6,
   "metadata": {},
   "outputs": [
    {
     "name": "stdout",
     "output_type": "stream",
     "text": [
      "Terri\n",
      "Trembeth\n",
      " \n",
      "Michael\n",
      "husband\n",
      " \n",
      "Joanne\n",
      "theater friend\n",
      " \n",
      "Harika\n",
      "work friend\n"
     ]
    }
   ],
   "source": [
    "friend1 = Friend(\"Michael\", \"husband\")\n",
    "friend2 = Friend(\"Joanne\", \"theater friend\")\n",
    "friend3 = Friend(\"Harika\", \"work friend\")\n",
    "\n",
    "me1 = Me(\"Terri\", \"Trembeth\",\"\")\n",
    "me1.myfriend1 = friend1\n",
    "me1.myfriend2 = friend2\n",
    "me1.myfriend3 = friend3\n",
    "\n",
    "print(me1.firstname)\n",
    "print(me1.lastname)\n",
    "print(\" \")\n",
    "print(me1.myfriend1.name)\n",
    "print(me1.myfriend1.relationship)\n",
    "print(\" \")\n",
    "print(me1.myfriend2.name)\n",
    "print(me1.myfriend2.relationship)\n",
    "print(\" \")\n",
    "print(me1.myfriend3.name)\n",
    "print(me1.myfriend3.relationship)"
   ]
  },
  {
   "cell_type": "markdown",
   "metadata": {},
   "source": [
    "Make a class called Wonky. wonky has 2 variables is_sleeping and is_happy.\n",
    "Include 2 functions called sleep, wake_up.\n",
    "sleep function should change your is_sleeping to True and is_happy to True\n",
    "wake_up function should change is_sleeping to False and is_happy to False"
   ]
  },
  {
   "cell_type": "code",
   "execution_count": 7,
   "metadata": {},
   "outputs": [],
   "source": [
    "class Wonky:\n",
    "    \n",
    "    def __init__(self, is_sleeping, is_happy):\n",
    "        self.is_sleeping = is_sleeping\n",
    "        self.is_happy = is_happy\n",
    "\n",
    "    def sleep(self):\n",
    "        self.is_sleeping = True\n",
    "        self.is_happy = True\n",
    "        \n",
    "    def wake_up(self):\n",
    "        self.is_sleeping = False\n",
    "        self.is_happy = False"
   ]
  },
  {
   "cell_type": "markdown",
   "metadata": {},
   "source": [
    "Make an instance called w and make him go to sleep. Print out what those values are when you make w go to sleep."
   ]
  },
  {
   "cell_type": "code",
   "execution_count": 8,
   "metadata": {},
   "outputs": [
    {
     "name": "stdout",
     "output_type": "stream",
     "text": [
      "True\n",
      "False\n",
      " \n",
      "True\n",
      "True\n"
     ]
    }
   ],
   "source": [
    "w = Wonky(True, False)\n",
    "print(w.is_sleeping)\n",
    "print(w.is_happy)\n",
    "\n",
    "w.sleep()\n",
    "print(\" \")\n",
    "print(w.is_sleeping)\n",
    "print(w.is_happy)"
   ]
  },
  {
   "cell_type": "markdown",
   "metadata": {},
   "source": [
    "Make a try except for a Zerodivision exception. And try it out"
   ]
  },
  {
   "cell_type": "code",
   "execution_count": 9,
   "metadata": {},
   "outputs": [
    {
     "name": "stdout",
     "output_type": "stream",
     "text": [
      "Enter number: 1\n",
      "Divide by what number: 0\n",
      "You cannot divide by 0\n"
     ]
    }
   ],
   "source": [
    "try:\n",
    "    x = input(\"Enter number: \")\n",
    "    y = input(\"Divide by what number: \")\n",
    "    print(int(x)/int(y))\n",
    "except ZeroDivisionError:\n",
    "    print(\"You cannot divide by 0\")\n",
    "    "
   ]
  },
  {
   "cell_type": "raw",
   "metadata": {},
   "source": [
    "Make a try except with a general exception and a else statement. "
   ]
  },
  {
   "cell_type": "code",
   "execution_count": 20,
   "metadata": {},
   "outputs": [
    {
     "name": "stdout",
     "output_type": "stream",
     "text": [
      "Enter first number to add: 1\n",
      "Enter second number to add: 2\n",
      "Total = 3\n",
      "Done\n"
     ]
    }
   ],
   "source": [
    "try:\n",
    "    x = input(\"Enter first number to add: \")\n",
    "    y = input(\"Enter second number to add: \")\n",
    "    z = int(x) + int(y)\n",
    "    print(\"Total = \" + str(z))\n",
    "except:\n",
    "    print(\"Something went wrong\")\n",
    "else:\n",
    "    print(\"Done\")\n"
   ]
  },
  {
   "cell_type": "markdown",
   "metadata": {},
   "source": [
    "# Explain OOP to yourself and what are the three unique defining things of OOP?"
   ]
  },
  {
   "cell_type": "code",
   "execution_count": null,
   "metadata": {},
   "outputs": [],
   "source": [
    "#OOP stands for object oriented programming. \n",
    "#Programming allows an object (eg person) can have properties (eg name) and/or behaviors (eg walking) bundled together.\n",
    "#The three unique defining things of OOP are:\n",
    "#   * Class = a \"thing\" defined by data fields (properties) and methods (behaviors)\n",
    "#   * Object = an element (instance) of the class that has classes's data fields (properties) and methods (behaviors)\n",
    "#   * Method = a function (behavior) of an object"
   ]
  },
  {
   "cell_type": "markdown",
   "metadata": {},
   "source": [
    "Make an example of polymorphism and comment where the polymorphism is occuring. What is polymorphism?"
   ]
  },
  {
   "cell_type": "code",
   "execution_count": 22,
   "metadata": {},
   "outputs": [
    {
     "name": "stdout",
     "output_type": "stream",
     "text": [
      "I write (Writer) as Terri\n",
      "I write (Student) as Charlie Brown\n",
      "I write (Author) as Mark Twain\n"
     ]
    }
   ],
   "source": [
    "#polymorphism = many / poly + shape / morph.  Instances of a class have inherited method, but method will be different\n",
    "#for each instance.  class animal = abstract with property to walk ==> object dog and object cat walk differently \n",
    "\n",
    "class Writer(object):\n",
    "    \n",
    "    def __init__(self,name):\n",
    "        self.name = name\n",
    "        \n",
    "    def write(self):\n",
    "        print(f\"I write (Writer) as {self.name}\")\n",
    "        \n",
    "class Student(Writer):\n",
    "    \n",
    "    def __init__(self,name):\n",
    "        super().__init__(name)\n",
    "        \n",
    "    def write(self):\n",
    "        print(f\"I write (Student) as {self.name}\")\n",
    "        \n",
    "class Author(Writer):\n",
    "    \n",
    "    def __init__(self,name):\n",
    "        super().__init__(name)\n",
    "        \n",
    "    def write(self):\n",
    "        print(f\"I write (Author) as {self.name}\")\n",
    "        \n",
    "f1 = Writer(\"Terri\")\n",
    "f2 = Student(\"Charlie Brown\")\n",
    "f3 = Author(\"Mark Twain\")\n",
    "\n",
    "f1.write()\n",
    "f2.write()\n",
    "f3.write()    \n",
    "\n",
    "# polymorphism is every writer (here Terri) writes, but student Michael writes differently from how author Mark Twain writes"
   ]
  },
  {
   "cell_type": "markdown",
   "metadata": {},
   "source": [
    "Explain what composition is versus inheritance?"
   ]
  },
  {
   "cell_type": "code",
   "execution_count": null,
   "metadata": {},
   "outputs": [],
   "source": [
    "#Inheritance = child class acquires properties (data fields) and methods (behaviors) of parent class.  Code is re-usable.\n",
    "#Composition = modules of code (functions) that can be called by other classes (don't have to be related)"
   ]
  },
  {
   "cell_type": "markdown",
   "metadata": {},
   "source": [
    "Make a Vehicle class and allow the car, truck, and tank class inherit from it. "
   ]
  },
  {
   "cell_type": "code",
   "execution_count": 25,
   "metadata": {},
   "outputs": [
    {
     "name": "stdout",
     "output_type": "stream",
     "text": [
      "Corvette\n",
      "Chevy\n",
      "1972\n"
     ]
    }
   ],
   "source": [
    "class Vehicle():\n",
    "    \n",
    "    def __init__(self, model, make, year):  \n",
    "        self.model = model\n",
    "        self.make = make\n",
    "        self.year = year\n",
    "\n",
    "class Car(Vehicle):\n",
    "    \n",
    "    def __init__(self, model, make, year): \n",
    "        super().__init__(model, make, year) \n",
    "\n",
    "class Truck(Vehicle):\n",
    "    \n",
    "    def __init__(self, model, make, year): \n",
    "        super().__init__(model, make, year)\n",
    "\n",
    "class Tank(Vehicle):\n",
    "    \n",
    "    def __init__(self, model, make, year): \n",
    "        super().__init__(model, make, year)\n",
    "\n",
    "lightning_mcqueen = Car(\"Corvette\", \"Chevy\", \"2006\")\n",
    "mater = Truck(\"International Harvester Tow\", \"Chevy\", \"1957\")\n",
    "tankster = Tank(\"M1 Abrahms\", \"Chrysler\", \"1972\")\n",
    "\n",
    "print(lightning_mcqueen.model)\n",
    "print(mater.make)\n",
    "print(tankster.year)"
   ]
  },
  {
   "cell_type": "markdown",
   "metadata": {},
   "source": [
    "Explain a is-a versus has-a relationship.\n",
    "Explain how many types of relationships there are OOP. What are the three?"
   ]
  },
  {
   "cell_type": "code",
   "execution_count": null,
   "metadata": {},
   "outputs": [],
   "source": [
    "#is-a:   something inherits from another - student inherits from person \n",
    "# has-a: something is composed of other things or has a trait, as in “a student has-a studentid.”"
   ]
  },
  {
   "cell_type": "markdown",
   "metadata": {},
   "source": [
    "Create a protected variable/attribute for your Vehicle class now"
   ]
  },
  {
   "cell_type": "code",
   "execution_count": 30,
   "metadata": {},
   "outputs": [
    {
     "name": "stdout",
     "output_type": "stream",
     "text": [
      "CRV\n",
      "Honda\n",
      "2019\n",
      "1Z248463ABC\n"
     ]
    }
   ],
   "source": [
    "class Vehicle():\n",
    "    \n",
    "    def __init__(self, model, make, year, VIN):  \n",
    "        self.model = model\n",
    "        self.make = make\n",
    "        self.year = year\n",
    "        self._VIN = \"1Z248463ABC\"  #protected\n",
    "\n",
    "vehicle1 = Vehicle(\"CRV\", \"Honda\", \"2019\", \"123\")\n",
    "print(vehicle1.model)\n",
    "print(vehicle1.make)\n",
    "print(vehicle1.year)\n",
    "#print(vehicle1.VIN) ==> this gives a \"Vehicle object has no VIN\" error\n",
    "print(vehicle1._VIN)"
   ]
  },
  {
   "cell_type": "markdown",
   "metadata": {},
   "source": [
    "Create a private variable/attribute in your Vehicle class now"
   ]
  },
  {
   "cell_type": "code",
   "execution_count": 32,
   "metadata": {},
   "outputs": [
    {
     "name": "stdout",
     "output_type": "stream",
     "text": [
      "CRV\n",
      "Honda\n",
      "2019\n",
      "1Z248463ABC\n"
     ]
    }
   ],
   "source": [
    "class Vehicle():\n",
    "    \n",
    "    def __init__(self, model, make, year, VIN, safetyscore):  \n",
    "        self.model = model\n",
    "        self.make = make\n",
    "        self.year = year\n",
    "        self._VIN = \"1Z248463ABC\"  #protected\n",
    "        self.__safetyscore = \"Failed\"\n",
    "\n",
    "vehicle1 = Vehicle(\"CRV\", \"Honda\", \"2019\", \"123\", \"A\")\n",
    "print(vehicle1.model)\n",
    "print(vehicle1.make)\n",
    "print(vehicle1.year)\n",
    "#print(vehicle1.VIN) ==> this gives a \"Vehicle object has no VIN\" error\n",
    "print(vehicle1._VIN)\n",
    "#print(vehicle1.__safetyscore) ==> this gives vehicle object has no attribute __safetyscore error"
   ]
  },
  {
   "cell_type": "markdown",
   "metadata": {},
   "source": [
    "Can I access the protected and private variables? (Yes or No and why?)"
   ]
  },
  {
   "cell_type": "code",
   "execution_count": null,
   "metadata": {},
   "outputs": [],
   "source": [
    "#The protected variable can be printed but not changed - Yes\n",
    "#The private varaible cannot be accessed - No"
   ]
  }
 ],
 "metadata": {
  "kernelspec": {
   "display_name": "Python 3",
   "language": "python",
   "name": "python3"
  },
  "language_info": {
   "codemirror_mode": {
    "name": "ipython",
    "version": 3
   },
   "file_extension": ".py",
   "mimetype": "text/x-python",
   "name": "python",
   "nbconvert_exporter": "python",
   "pygments_lexer": "ipython3",
   "version": "3.7.6"
  }
 },
 "nbformat": 4,
 "nbformat_minor": 4
}
